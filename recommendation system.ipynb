{
 "cells": [
  {
   "cell_type": "markdown",
   "id": "4d3a8865-c5aa-4f8b-b2b2-ee1ef8b651aa",
   "metadata": {},
   "source": [
    "Book Recommender System using Clustering | Collaborative Based"
   ]
  },
  {
   "cell_type": "code",
   "execution_count": null,
   "id": "3268f16f-df81-4d7a-a133-d562a87eb8bd",
   "metadata": {},
   "outputs": [],
   "source": [
    "import sys\n",
    "print(sys.executable)\n"
   ]
  },
  {
   "cell_type": "code",
   "execution_count": null,
   "id": "cf903680-0ff8-4990-8f65-9f96d9134b08",
   "metadata": {},
   "outputs": [],
   "source": [
    "import scipy\n",
    "print(scipy.__version__)\n"
   ]
  },
  {
   "cell_type": "code",
   "execution_count": null,
   "id": "dd46fb8c-a919-47c7-991d-5bd622ae9eb2",
   "metadata": {},
   "outputs": [],
   "source": [
    "import pandas as pd\n",
    "import numpy as np\n",
    "import matplotlib.pyplot as plt\n",
    "import seaborn as sns"
   ]
  },
  {
   "cell_type": "code",
   "execution_count": null,
   "id": "7a651766-7f9a-4125-b5ce-01a786057c91",
   "metadata": {},
   "outputs": [],
   "source": [
    "books = pd.read_csv('bkdata/BX-Books.csv', sep=\";\", on_bad_lines='skip', encoding='latin-1', low_memory=False)"
   ]
  },
  {
   "cell_type": "code",
   "execution_count": null,
   "id": "cb300cbb-0d30-4484-82c1-e1a0531380dc",
   "metadata": {},
   "outputs": [],
   "source": [
    "books.head()"
   ]
  },
  {
   "cell_type": "code",
   "execution_count": null,
   "id": "f607853f-9c60-419d-bbe4-3b07cf602bfe",
   "metadata": {},
   "outputs": [],
   "source": [
    "books.rename(columns={\n",
    "    \"Book-Title\": \"title\",\n",
    "    \"Book-Author\": \"author\",\n",
    "    \"Year-Of-Publication\": \"year\",\n",
    "    \"Publisher\": \"publisher\",\n",
    "    \"Image-URL-L\": \"img_url\"}, inplace=True)"
   ]
  },
  {
   "cell_type": "code",
   "execution_count": null,
   "id": "10f2cfda-a765-4fa1-b0ad-a82c033847cf",
   "metadata": {},
   "outputs": [],
   "source": [
    "books.shape"
   ]
  },
  {
   "cell_type": "code",
   "execution_count": null,
   "id": "10dd00e4-cc7c-4331-8388-9abebf6ad2b2",
   "metadata": {},
   "outputs": [],
   "source": [
    "books.columns"
   ]
  },
  {
   "cell_type": "code",
   "execution_count": null,
   "id": "42d3f597-11c0-427e-8569-c62789fe700a",
   "metadata": {},
   "outputs": [],
   "source": [
    "print(books.columns)\n"
   ]
  },
  {
   "cell_type": "code",
   "execution_count": null,
   "id": "e69aeb6f-12a2-4c22-a046-4784de4de760",
   "metadata": {},
   "outputs": [],
   "source": [
    "books = books[['ISBN', 'title', 'author', 'year', 'publisher',\n",
    "       'Image-URL-S', 'Image-URL-M', 'img_url']]"
   ]
  },
  {
   "cell_type": "code",
   "execution_count": null,
   "id": "0d07984a-44c8-4ef5-964b-d4cd4156b923",
   "metadata": {},
   "outputs": [],
   "source": [
    "users = pd.read_csv('bkdata/BX-Users.csv', sep=\";\", on_bad_lines='skip', encoding='latin-1', low_memory=False)"
   ]
  },
  {
   "cell_type": "code",
   "execution_count": null,
   "id": "5ad5f540-efbe-492e-96c9-ed3878e6e491",
   "metadata": {},
   "outputs": [],
   "source": [
    "users.head()"
   ]
  },
  {
   "cell_type": "code",
   "execution_count": null,
   "id": "fcb97600-b6ed-4874-bdd0-fab7bd7fd9c3",
   "metadata": {},
   "outputs": [],
   "source": [
    "ratings = pd.read_csv('bkdata/BX-Book-Ratings.csv', sep=\";\", on_bad_lines='skip', encoding='latin-1', low_memory=False)"
   ]
  },
  {
   "cell_type": "code",
   "execution_count": null,
   "id": "166c45b9-5982-401c-a49b-89c2c8be0cb8",
   "metadata": {},
   "outputs": [],
   "source": [
    "print(books.shape)\n",
    "print(users.shape)\n",
    "print(ratings.shape)"
   ]
  },
  {
   "cell_type": "code",
   "execution_count": null,
   "id": "1ebd4bba-f385-411e-b79c-46396267e7dd",
   "metadata": {},
   "outputs": [],
   "source": [
    "ratings.head()"
   ]
  },
  {
   "cell_type": "code",
   "execution_count": null,
   "id": "2703c8d6-71b6-427c-8641-1b9c7e4fcfaf",
   "metadata": {},
   "outputs": [],
   "source": [
    "ratings.rename(columns={\n",
    "    \"User-ID\": \"user_id\",\n",
    "    \"Book-Rating\": \"rating\"}, inplace=True)"
   ]
  },
  {
   "cell_type": "code",
   "execution_count": null,
   "id": "48ea725d-12a8-444c-a5ae-ea5f27692f27",
   "metadata": {},
   "outputs": [],
   "source": [
    "ratings.head()"
   ]
  },
  {
   "cell_type": "code",
   "execution_count": null,
   "id": "f4c9a8bd-d3d7-496a-ac2b-cd1788016d16",
   "metadata": {},
   "outputs": [],
   "source": [
    "ratings['user_id'].value_counts()"
   ]
  },
  {
   "cell_type": "code",
   "execution_count": null,
   "id": "2819c015-c8c4-48e1-9a2b-5333f1bd3178",
   "metadata": {},
   "outputs": [],
   "source": [
    "ratings['user_id'].unique().shape"
   ]
  },
  {
   "cell_type": "code",
   "execution_count": null,
   "id": "ec32ec7f-2352-4aec-93d7-739d60fdffee",
   "metadata": {},
   "outputs": [],
   "source": [
    "x = ratings['user_id'].value_counts() > 200"
   ]
  },
  {
   "cell_type": "code",
   "execution_count": null,
   "id": "f28653ff-bbe7-4400-8877-6da8b842fdc8",
   "metadata": {},
   "outputs": [],
   "source": [
    "x[x].shape"
   ]
  },
  {
   "cell_type": "code",
   "execution_count": null,
   "id": "b171fffd-193e-4467-af40-91023a6644f6",
   "metadata": {},
   "outputs": [],
   "source": [
    "y = x[x].index"
   ]
  },
  {
   "cell_type": "code",
   "execution_count": null,
   "id": "f65b6113-d418-4ee0-af3a-68692b32211a",
   "metadata": {},
   "outputs": [],
   "source": [
    "y"
   ]
  },
  {
   "cell_type": "code",
   "execution_count": null,
   "id": "618f11d0-f02b-4691-b3fa-1811b853a150",
   "metadata": {},
   "outputs": [],
   "source": [
    "ratings = ratings[ratings['user_id'].isin(y)]"
   ]
  },
  {
   "cell_type": "code",
   "execution_count": null,
   "id": "ce5482db-f390-41c2-86fe-608e41873c71",
   "metadata": {},
   "outputs": [],
   "source": [
    "ratings.head()"
   ]
  },
  {
   "cell_type": "code",
   "execution_count": null,
   "id": "5e3b34b9-cfb5-4791-a393-c6a14221e8b7",
   "metadata": {},
   "outputs": [],
   "source": [
    "ratings.shape"
   ]
  },
  {
   "cell_type": "code",
   "execution_count": null,
   "id": "763d27d1-0ee5-4133-9ac7-cb26a4c02eb1",
   "metadata": {},
   "outputs": [],
   "source": [
    "ratings_with_books = ratings.merge(books, on =\"ISBN\")"
   ]
  },
  {
   "cell_type": "code",
   "execution_count": null,
   "id": "caf3def7-9588-4e4b-8d4d-3113ebe1ddd5",
   "metadata": {},
   "outputs": [],
   "source": [
    "ratings_with_books.head()"
   ]
  },
  {
   "cell_type": "code",
   "execution_count": null,
   "id": "59b5c046-f293-4515-946b-845c5ca4d310",
   "metadata": {},
   "outputs": [],
   "source": [
    "ratings_with_books.shape"
   ]
  },
  {
   "cell_type": "code",
   "execution_count": null,
   "id": "a262abb0-8f8d-49e8-b07d-0dbc0d373308",
   "metadata": {},
   "outputs": [],
   "source": [
    "num_rating = ratings_with_books.groupby('title')['rating'].count().reset_index()"
   ]
  },
  {
   "cell_type": "code",
   "execution_count": null,
   "id": "9be81bac-f75b-40a9-81eb-ea70e8b0c164",
   "metadata": {},
   "outputs": [],
   "source": [
    "num_rating.head()"
   ]
  },
  {
   "cell_type": "code",
   "execution_count": null,
   "id": "aa95fe7e-c421-4afa-a6e1-c9a86ae2d9a4",
   "metadata": {},
   "outputs": [],
   "source": [
    "num_rating.rename(columns={\"rating\": \"num_of_rating\"}, inplace=True)"
   ]
  },
  {
   "cell_type": "code",
   "execution_count": null,
   "id": "73818f97-7f04-40a8-80d7-193ef18a178b",
   "metadata": {},
   "outputs": [],
   "source": [
    "num_rating.head()"
   ]
  },
  {
   "cell_type": "code",
   "execution_count": null,
   "id": "7c4c897f-0b81-4e10-8c09-b324b33a8c1e",
   "metadata": {},
   "outputs": [],
   "source": [
    "ratings_with_books.head()"
   ]
  },
  {
   "cell_type": "code",
   "execution_count": null,
   "id": "ecef1bb8-2a57-4400-b5a3-5ea276a527bd",
   "metadata": {},
   "outputs": [],
   "source": [
    "final_rating=ratings_with_books.merge(num_rating, on= 'title')"
   ]
  },
  {
   "cell_type": "code",
   "execution_count": null,
   "id": "862e25c4-c4fc-43db-b4e8-46a56acf4d1d",
   "metadata": {},
   "outputs": [],
   "source": [
    "final_rating.head()"
   ]
  },
  {
   "cell_type": "code",
   "execution_count": null,
   "id": "4c7edbd8-ad85-4d7f-b650-c99a61d8eb02",
   "metadata": {},
   "outputs": [],
   "source": [
    "final_rating.shape"
   ]
  },
  {
   "cell_type": "code",
   "execution_count": null,
   "id": "c0395789-8481-48d0-bbc9-3470a3c37ea2",
   "metadata": {},
   "outputs": [],
   "source": [
    "final_rating = final_rating[final_rating['num_of_rating']>=50]"
   ]
  },
  {
   "cell_type": "code",
   "execution_count": null,
   "id": "b749c5bb-2e1e-416a-a4d5-ef4009e3d087",
   "metadata": {},
   "outputs": [],
   "source": [
    "final_rating.sample(10)"
   ]
  },
  {
   "cell_type": "code",
   "execution_count": null,
   "id": "ea376826-582b-4977-a1c1-87a52cac1e67",
   "metadata": {},
   "outputs": [],
   "source": [
    "final_rating.shape"
   ]
  },
  {
   "cell_type": "code",
   "execution_count": null,
   "id": "44f8fc1c-880d-438a-a6b4-8cd9faa4377e",
   "metadata": {},
   "outputs": [],
   "source": [
    "final_rating.drop_duplicates(['user_id','title'], inplace=True)"
   ]
  },
  {
   "cell_type": "code",
   "execution_count": null,
   "id": "7fac16c8-092c-4f7f-a831-06450af62b3d",
   "metadata": {},
   "outputs": [],
   "source": [
    "final_rating.shape"
   ]
  },
  {
   "cell_type": "code",
   "execution_count": null,
   "id": "2dbd41fe-c14e-40ea-b070-8572cd9e412a",
   "metadata": {},
   "outputs": [],
   "source": [
    "book_pivot = final_rating.pivot_table(columns='user_id', index='title', values = 'rating')"
   ]
  },
  {
   "cell_type": "code",
   "execution_count": null,
   "id": "4b4f93f2-766b-4a58-b9f1-cf87e9d7d68e",
   "metadata": {},
   "outputs": [],
   "source": [
    "book_pivot"
   ]
  },
  {
   "cell_type": "code",
   "execution_count": null,
   "id": "fc6d222a-3923-4e31-b58c-3867ca4dedeb",
   "metadata": {},
   "outputs": [],
   "source": [
    "book_pivot.shape"
   ]
  },
  {
   "cell_type": "code",
   "execution_count": null,
   "id": "16195800-a033-487a-8ddc-14db3262c899",
   "metadata": {},
   "outputs": [],
   "source": [
    "book_pivot.fillna(0, inplace=True)"
   ]
  },
  {
   "cell_type": "code",
   "execution_count": null,
   "id": "f6a27f07-13e4-4b13-9a4c-ac0cfca8910b",
   "metadata": {},
   "outputs": [],
   "source": [
    "book_pivot"
   ]
  },
  {
   "cell_type": "code",
   "execution_count": null,
   "id": "e454bce2-9849-492c-bee6-c47efb0139ed",
   "metadata": {},
   "outputs": [],
   "source": [
    "from scipy.sparse import csr_matrix"
   ]
  },
  {
   "cell_type": "code",
   "execution_count": null,
   "id": "7524a180-2ecd-4e23-a806-3d2dbf8ad027",
   "metadata": {},
   "outputs": [],
   "source": [
    "book_sparse = csr_matrix(book_pivot)"
   ]
  },
  {
   "cell_type": "code",
   "execution_count": null,
   "id": "0a7229ef-46c4-4b9c-96ac-ee209075d102",
   "metadata": {},
   "outputs": [],
   "source": [
    "book_sparse"
   ]
  },
  {
   "cell_type": "code",
   "execution_count": null,
   "id": "f0ed6f28-5340-46a2-8ca2-61f6fdc620d1",
   "metadata": {},
   "outputs": [],
   "source": [
    "from sklearn.neighbors import NearestNeighbors\n",
    "model = NearestNeighbors(algorithm = 'brute')"
   ]
  },
  {
   "cell_type": "code",
   "execution_count": null,
   "id": "ea312b3f-51f2-435d-9674-55c45c7adba5",
   "metadata": {},
   "outputs": [],
   "source": [
    "model.fit(book_sparse)"
   ]
  },
  {
   "cell_type": "code",
   "execution_count": null,
   "id": "031e75a4-b25d-4607-bcca-b1de9dc30a91",
   "metadata": {},
   "outputs": [],
   "source": [
    "distance, suggestion = model.kneighbors(book_pivot.iloc[237,:].values.reshape(1,-1), n_neighbors=6)"
   ]
  },
  {
   "cell_type": "code",
   "execution_count": null,
   "id": "93c799ff-6d6f-4613-8b6f-d52c0a6465cf",
   "metadata": {},
   "outputs": [],
   "source": [
    "distance"
   ]
  },
  {
   "cell_type": "code",
   "execution_count": null,
   "id": "0925431b-a20e-4a51-8290-24d39161bfcc",
   "metadata": {},
   "outputs": [],
   "source": [
    "suggestion"
   ]
  },
  {
   "cell_type": "code",
   "execution_count": null,
   "id": "029a65c1-60a9-400c-aadb-a765773bdd5c",
   "metadata": {},
   "outputs": [],
   "source": [
    "for i in range(len(suggestion)):\n",
    "    print(book_pivot.index[suggestion[i]])"
   ]
  },
  {
   "cell_type": "code",
   "execution_count": null,
   "id": "5a4eb0d2-0f84-46da-93b2-fe5d5e9dd15a",
   "metadata": {},
   "outputs": [],
   "source": [
    "book_pivot.index"
   ]
  },
  {
   "cell_type": "code",
   "execution_count": null,
   "id": "4424a446-d8d1-4cc4-acb4-6789042746cb",
   "metadata": {},
   "outputs": [],
   "source": [
    "books_name = book_pivot.index"
   ]
  },
  {
   "cell_type": "code",
   "execution_count": null,
   "id": "daf82740-c592-40c0-827b-e885682af391",
   "metadata": {},
   "outputs": [],
   "source": [
    "import pickle\n",
    "import os\n",
    "\n",
    "os.makedirs('artifacts', exist_ok=True)\n",
    "\n",
    "pickle.dump(model, open('artifacts/model.pk1', 'wb'))\n",
    "pickle.dump(books_name, open('artifacts/books_name.pk1', 'wb'))\n",
    "pickle.dump(final_rating, open('artifacts/final_rating.pk1', 'wb'))\n",
    "pickle.dump(book_pivot, open('artifacts/book_pivot.pk1', 'wb'))"
   ]
  },
  {
   "cell_type": "code",
   "execution_count": null,
   "id": "70a823af-8986-4362-8532-0b5a98900ffb",
   "metadata": {},
   "outputs": [],
   "source": [
    "# to check if pickling was successful\n",
    "model = pickle.load(open('artifacts/model.pk1', 'rb'))\n",
    "print(\"Model loaded successfully!\")\n"
   ]
  },
  {
   "cell_type": "code",
   "execution_count": null,
   "id": "819e23b7-38a9-492d-ae21-46c0923f9d87",
   "metadata": {},
   "outputs": [],
   "source": [
    "def recommend_book(book_name):\n",
    "    book_id = np.where(book_pivot.index == book_name)[0][0]\n",
    "    distance, suggestion = model.kneighbors(book_pivot.iloc[book_id,:].values.reshape(1,-1), n_neighbors=6)\n",
    "    \n",
    "    for i in range(len(suggestion)):\n",
    "        books = book_pivot.index[suggestion[i]]\n",
    "        for j in books:\n",
    "            print(j)"
   ]
  },
  {
   "cell_type": "code",
   "execution_count": null,
   "id": "e9cf591e-9869-4c87-a375-1cba6fcc66b9",
   "metadata": {},
   "outputs": [],
   "source": [
    "book_name = 'A Bend in the Road'\n",
    "recommend_book(book_name)"
   ]
  },
  {
   "cell_type": "code",
   "execution_count": null,
   "id": "31843636-9cc7-4bc9-a731-2eb9c12747c9",
   "metadata": {},
   "outputs": [],
   "source": []
  }
 ],
 "metadata": {
  "kernelspec": {
   "display_name": "base",
   "language": "python",
   "name": "python3"
  },
  "language_info": {
   "codemirror_mode": {
    "name": "ipython",
    "version": 3
   },
   "file_extension": ".py",
   "mimetype": "text/x-python",
   "name": "python",
   "nbconvert_exporter": "python",
   "pygments_lexer": "ipython3",
   "version": "3.11.7"
  }
 },
 "nbformat": 4,
 "nbformat_minor": 5
}
